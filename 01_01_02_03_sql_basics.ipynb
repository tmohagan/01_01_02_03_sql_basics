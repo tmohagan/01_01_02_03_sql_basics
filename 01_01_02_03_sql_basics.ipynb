{
 "cells": [
  {
   "cell_type": "markdown",
   "metadata": {},
   "source": [
    "The IDs and durations for all trips of duration greater than 500, ordered by duration"
   ]
  },
  {
   "cell_type": "markdown",
   "metadata": {},
   "source": [
    "SELECT trip_id, duration \n",
    "FROM trips\n",
    "WHERE duration > 500 \n",
    "ORDER BY duration DESC;"
   ]
  },
  {
   "cell_type": "markdown",
   "metadata": {},
   "source": [
    "Every column of the stations table for station id 84."
   ]
  },
  {
   "cell_type": "markdown",
   "metadata": {},
   "source": [
    "SELECT * FROM stations WHERE station_id = 84;"
   ]
  },
  {
   "cell_type": "markdown",
   "metadata": {},
   "source": [
    "The min temperatures of all the occurrences of rain in zip 94301"
   ]
  },
  {
   "cell_type": "markdown",
   "metadata": {},
   "source": [
    "SELECT mintemperaturef FROM weather WHERE events LIKE 'Rain' AND zip = 94301;"
   ]
  }
 ],
 "metadata": {
  "kernelspec": {
   "display_name": "Python 3",
   "language": "python",
   "name": "python3"
  },
  "language_info": {
   "codemirror_mode": {
    "name": "ipython",
    "version": 3
   },
   "file_extension": ".py",
   "mimetype": "text/x-python",
   "name": "python",
   "nbconvert_exporter": "python",
   "pygments_lexer": "ipython3",
   "version": "3.6.5"
  }
 },
 "nbformat": 4,
 "nbformat_minor": 2
}
